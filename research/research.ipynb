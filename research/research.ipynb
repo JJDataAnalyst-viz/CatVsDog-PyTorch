{
 "cells": [
  {
   "cell_type": "code",
   "execution_count": 1,
   "metadata": {},
   "outputs": [],
   "source": [
    "import kaggle\n",
    "from kaggle.api.kaggle_api_extended import KaggleApi\n",
    "api = KaggleApi()\n",
    "api.authenticate()\n",
    "# api.competition_download_files('dogs-vs-cats',path='../data/raw')"
   ]
  },
  {
   "cell_type": "code",
   "execution_count": 2,
   "metadata": {},
   "outputs": [],
   "source": [
    "import zipfile \n",
    "import os\n",
    "\n",
    "with zipfile.ZipFile('../data/raw/dogs-vs-cats.zip','r') as file:\n",
    "    file.extractall('../data/raw/unzipped')\n",
    "\n",
    "with zipfile.ZipFile('../data/raw/unzipped/test1.zip','r') as file:\n",
    "    file.extractall('../data/raw/unzipped/test/')\n",
    "\n",
    "\n",
    "with zipfile.ZipFile('../data/raw/unzipped/train.zip','r') as file:\n",
    "    file.extractall('../data/raw/unzipped/')"
   ]
  },
  {
   "cell_type": "code",
   "execution_count": 3,
   "metadata": {},
   "outputs": [],
   "source": [
    "import re\n",
    "import shutil\n",
    "import pathlib\n",
    "cat_folder = 'cat'\n",
    "dog_folder = 'dog'\n",
    "x = None\n",
    "if x:\n",
    "    for dirname,filename,image in os.walk('../data/raw/unzipped/train'):\n",
    "        print(f'{len(filename)} is {len(image)} in {dirname}')\n",
    "        # print(str(image))\n",
    "\n",
    "        if os.path.exists('data/raw/unzipped/train1'):\n",
    "            break\n",
    "        else:\n",
    "            os.makedirs('data/raw/unzipped/rain1',exist_ok=True)\n",
    "            for i in image:\n",
    "                if str(i).split('.')[0] == cat_folder:\n",
    "                    shutil.copy(os.path.join(str(dirname),str(i)),dst='../data/raw/unzipped/train1/cat')\n",
    "            \n",
    "                elif str(i).split('.')[0] == dog_folder:\n",
    "                    shutil.copy(os.path.join(str(dirname),str(i)),dst='../data/raw/unzipped/train1/dog')\n",
    "                \n",
    "    "
   ]
  },
  {
   "cell_type": "code",
   "execution_count": 4,
   "metadata": {},
   "outputs": [],
   "source": [
    "import torch\n",
    "from torch.utils.data import DataLoader,Dataset\n",
    "from torchvision import datasets,transforms,models"
   ]
  },
  {
   "cell_type": "code",
   "execution_count": 5,
   "metadata": {},
   "outputs": [],
   "source": [
    "transforms_train = transforms.Compose([\n",
    "    transforms.Resize(size=(64,64)),\n",
    "    transforms.AutoAugment(),\n",
    "    transforms.ToTensor()\n",
    "])\n",
    "transforms_test = transforms.Compose([\n",
    "    transforms.Resize(size=(64,64)),\n",
    "    transforms.ToTensor()\n",
    "])"
   ]
  },
  {
   "cell_type": "code",
   "execution_count": 6,
   "metadata": {},
   "outputs": [],
   "source": [
    "train_dataset = datasets.ImageFolder('../data/raw/unzipped/train1',transform=transforms_test)"
   ]
  },
  {
   "cell_type": "code",
   "execution_count": 7,
   "metadata": {},
   "outputs": [
    {
     "data": {
      "text/plain": [
       "{'cat': 0, 'dog': 1}"
      ]
     },
     "execution_count": 7,
     "metadata": {},
     "output_type": "execute_result"
    }
   ],
   "source": [
    "train_dataset.class_to_idx"
   ]
  },
  {
   "cell_type": "code",
   "execution_count": 8,
   "metadata": {},
   "outputs": [],
   "source": [
    "test_dataset = datasets.ImageFolder('../data/raw/unzipped/test',transform=transforms_test)"
   ]
  },
  {
   "cell_type": "code",
   "execution_count": 9,
   "metadata": {},
   "outputs": [
    {
     "data": {
      "text/plain": [
       "Dataset ImageFolder\n",
       "    Number of datapoints: 25000\n",
       "    Root location: ../data/raw/unzipped/test\n",
       "    StandardTransform\n",
       "Transform: Compose(\n",
       "               Resize(size=(64, 64), interpolation=bilinear, max_size=None, antialias=True)\n",
       "               ToTensor()\n",
       "           )"
      ]
     },
     "execution_count": 9,
     "metadata": {},
     "output_type": "execute_result"
    }
   ],
   "source": [
    "test_dataset"
   ]
  },
  {
   "cell_type": "code",
   "execution_count": 10,
   "metadata": {},
   "outputs": [],
   "source": [
    "img,label = train_dataset[0]"
   ]
  },
  {
   "cell_type": "code",
   "execution_count": 11,
   "metadata": {},
   "outputs": [],
   "source": [
    "TRAIN_SIZE = int((len(train_dataset)*0.8))\n",
    "VALIDATION_SIZE = int(len(train_dataset)*0.2)"
   ]
  },
  {
   "cell_type": "code",
   "execution_count": 12,
   "metadata": {},
   "outputs": [
    {
     "data": {
      "text/plain": [
       "20000"
      ]
     },
     "execution_count": 12,
     "metadata": {},
     "output_type": "execute_result"
    }
   ],
   "source": [
    "TRAIN_SIZE"
   ]
  },
  {
   "cell_type": "code",
   "execution_count": 13,
   "metadata": {},
   "outputs": [],
   "source": [
    "train_dataset,validation_dataset = torch.utils.data.random_split(train_dataset,[TRAIN_SIZE,VALIDATION_SIZE])"
   ]
  },
  {
   "cell_type": "code",
   "execution_count": 14,
   "metadata": {},
   "outputs": [],
   "source": [
    "img,label = validation_dataset[0]"
   ]
  },
  {
   "cell_type": "code",
   "execution_count": 15,
   "metadata": {},
   "outputs": [
    {
     "data": {
      "text/plain": [
       "tensor([[[0.4667, 0.4157, 0.4118,  ..., 0.2235, 0.1451, 0.3490],\n",
       "         [0.4471, 0.4039, 0.4667,  ..., 0.2078, 0.1725, 0.3882],\n",
       "         [0.5882, 0.4314, 0.5020,  ..., 0.1961, 0.1843, 0.4118],\n",
       "         ...,\n",
       "         [0.4471, 0.4353, 0.4510,  ..., 0.5412, 0.5412, 0.5373],\n",
       "         [0.4471, 0.4510, 0.4549,  ..., 0.5451, 0.5490, 0.5490],\n",
       "         [0.4275, 0.4431, 0.4549,  ..., 0.5490, 0.5412, 0.5412]],\n",
       "\n",
       "        [[0.2941, 0.3255, 0.4000,  ..., 0.2627, 0.2039, 0.4588],\n",
       "         [0.2627, 0.2941, 0.4314,  ..., 0.2510, 0.2431, 0.5020],\n",
       "         [0.4039, 0.2863, 0.4314,  ..., 0.2471, 0.2745, 0.5373],\n",
       "         ...,\n",
       "         [0.4431, 0.4314, 0.4510,  ..., 0.5529, 0.5529, 0.5490],\n",
       "         [0.4431, 0.4471, 0.4510,  ..., 0.5608, 0.5608, 0.5608],\n",
       "         [0.4235, 0.4392, 0.4510,  ..., 0.5608, 0.5529, 0.5529]],\n",
       "\n",
       "        [[0.4235, 0.3882, 0.4118,  ..., 0.4039, 0.4000, 0.7216],\n",
       "         [0.3765, 0.3490, 0.4314,  ..., 0.4000, 0.4588, 0.7843],\n",
       "         [0.5255, 0.3686, 0.4667,  ..., 0.4039, 0.5098, 0.8392],\n",
       "         ...,\n",
       "         [0.4196, 0.4078, 0.4235,  ..., 0.5725, 0.5725, 0.5686],\n",
       "         [0.4235, 0.4275, 0.4314,  ..., 0.5804, 0.5804, 0.5804],\n",
       "         [0.4078, 0.4235, 0.4353,  ..., 0.5765, 0.5725, 0.5725]]])"
      ]
     },
     "execution_count": 15,
     "metadata": {},
     "output_type": "execute_result"
    }
   ],
   "source": [
    "img"
   ]
  },
  {
   "cell_type": "code",
   "execution_count": 16,
   "metadata": {},
   "outputs": [],
   "source": [
    "import torch\n",
    "from torch import nn\n",
    "import torchinfo\n",
    "device = \"cuda\" if torch.cuda.is_available() else \"cpu\""
   ]
  },
  {
   "cell_type": "code",
   "execution_count": 17,
   "metadata": {},
   "outputs": [
    {
     "data": {
      "text/plain": [
       "'cuda'"
      ]
     },
     "execution_count": 17,
     "metadata": {},
     "output_type": "execute_result"
    }
   ],
   "source": [
    "device"
   ]
  },
  {
   "cell_type": "code",
   "execution_count": 18,
   "metadata": {},
   "outputs": [],
   "source": [
    "class TinyVGGV0(nn.Module):\n",
    "    def __init__(self,input_features,hidden_state,output_features):\n",
    "        super().__init__()\n",
    "        \n",
    "        self.conv_layer_1 = nn.Sequential(\n",
    "            nn.Conv2d(in_channels=input_features,out_channels=hidden_state,\n",
    "                      kernel_size=3,\n",
    "                      padding=1,\n",
    "                      stride=1),\n",
    "            nn.ReLU(),\n",
    "            nn.Conv2d(in_channels=hidden_state,out_channels=hidden_state,\n",
    "                      kernel_size=3,\n",
    "                      padding=1,\n",
    "                      stride=1),\n",
    "            nn.ReLU(),\n",
    "            nn.MaxPool2d(kernel_size=2,stride=2)\n",
    "        )\n",
    "\n",
    "        self.conv_layer_2 = nn.Sequential(\n",
    "                   nn.Conv2d(in_channels=hidden_state,out_channels=hidden_state,\n",
    "                      kernel_size=3,\n",
    "                      padding=1,\n",
    "                      stride=1),\n",
    "            nn.ReLU(),\n",
    "            nn.Conv2d(in_channels=hidden_state,out_channels=hidden_state,\n",
    "                      kernel_size=3,\n",
    "                      padding=1,\n",
    "                      stride=1),\n",
    "            nn.ReLU(),\n",
    "            nn.MaxPool2d(kernel_size=2,stride=2)\n",
    "        )\n",
    "        \n",
    "\n",
    "        self.layer_stack = nn.Sequential(\n",
    "            nn.Flatten(),\n",
    "            nn.Linear(in_features=10*16*16,out_features=output_features)\n",
    "        )\n",
    "\n",
    "    def forward(self,x):\n",
    "        x = self.conv_layer_1(x)\n",
    "        # print(f' After first conv1 layer : {x.shape}')\n",
    "        x = self.conv_layer_2(x)\n",
    "        # print(f' After second conv2 layer : {x.shape}')\n",
    "        return self.layer_stack(x)"
   ]
  },
  {
   "cell_type": "code",
   "execution_count": 19,
   "metadata": {},
   "outputs": [],
   "source": [
    "BATCH_SIZE = 32\n",
    "train_dataset_laoder = DataLoader(train_dataset,BATCH_SIZE,shuffle=True,num_workers=os.cpu_count())\n",
    "validation_dataset_loader = DataLoader(validation_dataset,BATCH_SIZE,shuffle=False,num_workers=os.cpu_count())\n",
    "Dtest_dataset_loader = DataLoader(test_dataset,BATCH_SIZE,shuffle=False,num_workers=os.cpu_count())"
   ]
  },
  {
   "cell_type": "code",
   "execution_count": 20,
   "metadata": {},
   "outputs": [],
   "source": [
    "model_0 = TinyVGGV0(3,hidden_state=10,output_features=2).to(device)"
   ]
  },
  {
   "cell_type": "code",
   "execution_count": 21,
   "metadata": {},
   "outputs": [
    {
     "data": {
      "text/plain": [
       "==========================================================================================\n",
       "Layer (type:depth-idx)                   Output Shape              Param #\n",
       "==========================================================================================\n",
       "TinyVGGV0                                [32, 2]                   --\n",
       "├─Sequential: 1-1                        [32, 10, 32, 32]          --\n",
       "│    └─Conv2d: 2-1                       [32, 10, 64, 64]          280\n",
       "│    └─ReLU: 2-2                         [32, 10, 64, 64]          --\n",
       "│    └─Conv2d: 2-3                       [32, 10, 64, 64]          910\n",
       "│    └─ReLU: 2-4                         [32, 10, 64, 64]          --\n",
       "│    └─MaxPool2d: 2-5                    [32, 10, 32, 32]          --\n",
       "├─Sequential: 1-2                        [32, 10, 16, 16]          --\n",
       "│    └─Conv2d: 2-6                       [32, 10, 32, 32]          910\n",
       "│    └─ReLU: 2-7                         [32, 10, 32, 32]          --\n",
       "│    └─Conv2d: 2-8                       [32, 10, 32, 32]          910\n",
       "│    └─ReLU: 2-9                         [32, 10, 32, 32]          --\n",
       "│    └─MaxPool2d: 2-10                   [32, 10, 16, 16]          --\n",
       "├─Sequential: 1-3                        [32, 2]                   --\n",
       "│    └─Flatten: 2-11                     [32, 2560]                --\n",
       "│    └─Linear: 2-12                      [32, 2]                   5,122\n",
       "==========================================================================================\n",
       "Total params: 8,132\n",
       "Trainable params: 8,132\n",
       "Non-trainable params: 0\n",
       "Total mult-adds (Units.MEGABYTES): 215.78\n",
       "==========================================================================================\n",
       "Input size (MB): 1.57\n",
       "Forward/backward pass size (MB): 26.21\n",
       "Params size (MB): 0.03\n",
       "Estimated Total Size (MB): 27.82\n",
       "=========================================================================================="
      ]
     },
     "execution_count": 21,
     "metadata": {},
     "output_type": "execute_result"
    }
   ],
   "source": [
    "torchinfo.summary(model_0,input_size=[32,3,64,64])"
   ]
  },
  {
   "cell_type": "code",
   "execution_count": 22,
   "metadata": {},
   "outputs": [],
   "source": [
    "\n",
    "loss_fn = nn.CrossEntropyLoss()\n",
    "optim = torch.optim.Adam(params=model_0.parameters())"
   ]
  },
  {
   "cell_type": "code",
   "execution_count": 23,
   "metadata": {},
   "outputs": [],
   "source": [
    "def train_step(model,dataloader,loss_fn,optimizer,device=device):\n",
    "    model.train()\n",
    "\n",
    "    train_loss,train_accuracy = 0,0\n",
    "\n",
    "    for batch,(X,y) in enumerate(dataloader):\n",
    "\n",
    "        X,y = X.to(device),y.to(device)\n",
    "\n",
    "        y_preds = model(X)\n",
    "\n",
    "        loss = loss_fn(y_preds,y)\n",
    "\n",
    "        train_loss += loss.item()\n",
    "\n",
    "        accuracer = torch.argmax(torch.softmax(y_preds,dim=1),dim=1)\n",
    "\n",
    "        train_accuracy += (accuracer==y).sum().item()/len(y_preds)\n",
    "\n",
    "        optimizer.zero_grad()\n",
    "\n",
    "        loss.backward()\n",
    "\n",
    "        optimizer.step()\n",
    "    train_loss /= len(dataloader)\n",
    "    train_accuracy /= len(dataloader)\n",
    "    return train_loss,train_accuracy"
   ]
  },
  {
   "cell_type": "code",
   "execution_count": 24,
   "metadata": {},
   "outputs": [],
   "source": [
    "def validation_step(model,dataloader,loss_fn,device=device):\n",
    "    model.eval()\n",
    "\n",
    "    test_loss,test_accuracy = 0,0\n",
    "\n",
    "    with torch.inference_mode():\n",
    "        for batch,(X,y) in enumerate(dataloader):\n",
    "            X,y = X.to(device),y.to(device)\n",
    "\n",
    "            y_pred = model(X)\n",
    "\n",
    "            loss  = loss_fn(y_pred,y)\n",
    "\n",
    "            test_loss += loss.item()\n",
    "\n",
    "            y_pred_class = torch.argmax(torch.softmax(y_pred,dim=1),dim=1)\n",
    "\n",
    "            test_accuracy += (y_pred_class == y).sum().item()/len(y_pred)\n",
    "\n",
    "        test_loss /= len(dataloader)\n",
    "        test_accuracy /= len(dataloader)\n",
    "        return test_loss,test_accuracy"
   ]
  },
  {
   "cell_type": "code",
   "execution_count": 25,
   "metadata": {},
   "outputs": [],
   "source": [
    "def train_model(model,train_loader,test_loader,loss_fn,optimizer,epochs,device=device):\n",
    "    from tqdm.auto import tqdm\n",
    "    results = {\"train_loss\" : [],\n",
    "               \"train_acc\": [],\n",
    "               \"test_loss\": [],\n",
    "               \"test_acc\":[]}\n",
    "    for epoch in tqdm(range(epochs)):\n",
    "        print(f'Epoch {epoch} ---------------\\n')\n",
    "\n",
    "        train_loss,train_accuracy = train_step(model,train_loader,loss_fn,optimizer,device=device)\n",
    "        test_loss,test_accuracy = validation_step(model,test_loader,loss_fn,device=device)\n",
    "\n",
    "        print(f'Train Loss {train_loss} Train Accuracy {train_accuracy} \\n Test Loss {test_loss} Test Accuracy {test_accuracy}')\n",
    "\n",
    "        results[\"test_loss\"].append(test_loss)\n",
    "        results['test_acc'].append(test_accuracy)\n",
    "        results['train_acc'].append(train_accuracy)\n",
    "        results['train_loss'].append(train_loss)\n",
    "\n",
    "    return results"
   ]
  },
  {
   "cell_type": "code",
   "execution_count": 26,
   "metadata": {},
   "outputs": [
    {
     "name": "stderr",
     "output_type": "stream",
     "text": [
      "c:\\Users\\HP\\Desktop\\CatvsDogs\\venv\\Lib\\site-packages\\tqdm\\auto.py:21: TqdmWarning: IProgress not found. Please update jupyter and ipywidgets. See https://ipywidgets.readthedocs.io/en/stable/user_install.html\n",
      "  from .autonotebook import tqdm as notebook_tqdm\n",
      "  0%|          | 0/10 [00:00<?, ?it/s]"
     ]
    },
    {
     "name": "stdout",
     "output_type": "stream",
     "text": [
      "Epoch 0 ---------------\n",
      "\n"
     ]
    },
    {
     "name": "stderr",
     "output_type": "stream",
     "text": [
      " 10%|█         | 1/10 [01:22<12:21, 82.42s/it]"
     ]
    },
    {
     "name": "stdout",
     "output_type": "stream",
     "text": [
      "Train Loss 0.678591723537445 Train Accuracy 0.5671 \n",
      " Test Loss 0.6454240994848264 Test Accuracy 0.6323646496815286\n",
      "Epoch 1 ---------------\n",
      "\n"
     ]
    },
    {
     "name": "stderr",
     "output_type": "stream",
     "text": [
      " 20%|██        | 2/10 [02:40<10:39, 79.89s/it]"
     ]
    },
    {
     "name": "stdout",
     "output_type": "stream",
     "text": [
      "Train Loss 0.6292121361255646 Train Accuracy 0.6467 \n",
      " Test Loss 0.6092782185715475 Test Accuracy 0.6765525477707006\n",
      "Epoch 2 ---------------\n",
      "\n"
     ]
    },
    {
     "name": "stderr",
     "output_type": "stream",
     "text": [
      " 30%|███       | 3/10 [03:57<09:11, 78.75s/it]"
     ]
    },
    {
     "name": "stdout",
     "output_type": "stream",
     "text": [
      "Train Loss 0.5749384841442108 Train Accuracy 0.70045 \n",
      " Test Loss 0.5563405776859089 Test Accuracy 0.7223328025477707\n",
      "Epoch 3 ---------------\n",
      "\n"
     ]
    },
    {
     "name": "stderr",
     "output_type": "stream",
     "text": [
      " 40%|████      | 4/10 [05:14<07:46, 77.83s/it]"
     ]
    },
    {
     "name": "stdout",
     "output_type": "stream",
     "text": [
      "Train Loss 0.5307958310604095 Train Accuracy 0.7367 \n",
      " Test Loss 0.5356764261889609 Test Accuracy 0.7402468152866242\n",
      "Epoch 4 ---------------\n",
      "\n"
     ]
    },
    {
     "name": "stderr",
     "output_type": "stream",
     "text": [
      " 50%|█████     | 5/10 [06:30<06:26, 77.24s/it]"
     ]
    },
    {
     "name": "stdout",
     "output_type": "stream",
     "text": [
      "Train Loss 0.5023383686065673 Train Accuracy 0.7616 \n",
      " Test Loss 0.5133547190647976 Test Accuracy 0.7559713375796179\n",
      "Epoch 5 ---------------\n",
      "\n"
     ]
    },
    {
     "name": "stderr",
     "output_type": "stream",
     "text": [
      " 60%|██████    | 6/10 [07:48<05:09, 77.48s/it]"
     ]
    },
    {
     "name": "stdout",
     "output_type": "stream",
     "text": [
      "Train Loss 0.48548415749073026 Train Accuracy 0.76805 \n",
      " Test Loss 0.5037701898699354 Test Accuracy 0.7635350318471338\n",
      "Epoch 6 ---------------\n",
      "\n"
     ]
    },
    {
     "name": "stderr",
     "output_type": "stream",
     "text": [
      " 70%|███████   | 7/10 [09:04<03:51, 77.04s/it]"
     ]
    },
    {
     "name": "stdout",
     "output_type": "stream",
     "text": [
      "Train Loss 0.47274358139038086 Train Accuracy 0.7783 \n",
      " Test Loss 0.5044390703462491 Test Accuracy 0.7687101910828026\n",
      "Epoch 7 ---------------\n",
      "\n"
     ]
    },
    {
     "name": "stderr",
     "output_type": "stream",
     "text": [
      " 80%|████████  | 8/10 [10:22<02:34, 77.29s/it]"
     ]
    },
    {
     "name": "stdout",
     "output_type": "stream",
     "text": [
      "Train Loss 0.4583208216428757 Train Accuracy 0.7863 \n",
      " Test Loss 0.5045267652933765 Test Accuracy 0.7663216560509554\n",
      "Epoch 8 ---------------\n",
      "\n"
     ]
    },
    {
     "name": "stderr",
     "output_type": "stream",
     "text": [
      " 90%|█████████ | 9/10 [11:38<01:16, 76.89s/it]"
     ]
    },
    {
     "name": "stdout",
     "output_type": "stream",
     "text": [
      "Train Loss 0.4500110958337784 Train Accuracy 0.7921 \n",
      " Test Loss 0.4757613074627651 Test Accuracy 0.7792595541401274\n",
      "Epoch 9 ---------------\n",
      "\n"
     ]
    },
    {
     "name": "stderr",
     "output_type": "stream",
     "text": [
      "100%|██████████| 10/10 [12:55<00:00, 77.51s/it]"
     ]
    },
    {
     "name": "stdout",
     "output_type": "stream",
     "text": [
      "Train Loss 0.4359360311985016 Train Accuracy 0.80105 \n",
      " Test Loss 0.47946559500162766 Test Accuracy 0.7852308917197452\n"
     ]
    },
    {
     "name": "stderr",
     "output_type": "stream",
     "text": [
      "\n"
     ]
    }
   ],
   "source": [
    "results = train_model(model_0,train_loader=train_dataset_laoder,test_loader=validation_dataset_loader,loss_fn=loss_fn,optimizer=optim,epochs=10,device=device)"
   ]
  },
  {
   "cell_type": "code",
   "execution_count": 27,
   "metadata": {},
   "outputs": [],
   "source": [
    "from torchvision import models"
   ]
  },
  {
   "cell_type": "code",
   "execution_count": 28,
   "metadata": {},
   "outputs": [],
   "source": [
    "def EfficienNet_model(pretrained=True,fine_tuned= True,num_classes=2):\n",
    "    if pretrained:\n",
    "        print('[INFO] LOADING PRETRAINED WEIGHTS')\n",
    "\n",
    "    else:\n",
    "        print('[INFO] NOT LOADING PRETRAINED WEIGHTS')\n",
    "    model = models.efficientnet_b2(pretrained = pretrained)\n",
    "\n",
    "    if fine_tuned:\n",
    "        print('[INFO] Fine-tuning all-layers..')\n",
    "        for params in model.parameters():\n",
    "            params.requires_grad = True\n",
    "    elif not fine_tuned:\n",
    "        print('[INFO]: Freezing hidden layers...')\n",
    "        for params in model.parameters():\n",
    "            params.requires_grad = False\n",
    "\n",
    "    model.classifier[1] = nn.Linear(in_features=1408,out_features= num_classes)\n",
    "    return model"
   ]
  },
  {
   "cell_type": "code",
   "execution_count": 29,
   "metadata": {},
   "outputs": [
    {
     "name": "stdout",
     "output_type": "stream",
     "text": [
      "[INFO] LOADING PRETRAINED WEIGHTS\n"
     ]
    },
    {
     "name": "stderr",
     "output_type": "stream",
     "text": [
      "c:\\Users\\HP\\Desktop\\CatvsDogs\\venv\\Lib\\site-packages\\torchvision\\models\\_utils.py:208: UserWarning: The parameter 'pretrained' is deprecated since 0.13 and may be removed in the future, please use 'weights' instead.\n",
      "  warnings.warn(\n",
      "c:\\Users\\HP\\Desktop\\CatvsDogs\\venv\\Lib\\site-packages\\torchvision\\models\\_utils.py:223: UserWarning: Arguments other than a weight enum or `None` for 'weights' are deprecated since 0.13 and may be removed in the future. The current behavior is equivalent to passing `weights=EfficientNet_B2_Weights.IMAGENET1K_V1`. You can also use `weights=EfficientNet_B2_Weights.DEFAULT` to get the most up-to-date weights.\n",
      "  warnings.warn(msg)\n"
     ]
    },
    {
     "name": "stdout",
     "output_type": "stream",
     "text": [
      "[INFO] Fine-tuning all-layers..\n"
     ]
    }
   ],
   "source": [
    "model_1 =  EfficienNet_model(pretrained=True,fine_tuned= True).to(device)"
   ]
  },
  {
   "cell_type": "code",
   "execution_count": 30,
   "metadata": {},
   "outputs": [],
   "source": [
    "loss_fn = nn.CrossEntropyLoss()\n",
    "optim = torch.optim.Adam(params=model_1.parameters())"
   ]
  },
  {
   "cell_type": "code",
   "execution_count": 31,
   "metadata": {},
   "outputs": [
    {
     "name": "stderr",
     "output_type": "stream",
     "text": [
      "  0%|          | 0/10 [00:00<?, ?it/s]"
     ]
    },
    {
     "name": "stdout",
     "output_type": "stream",
     "text": [
      "Epoch 0 ---------------\n",
      "\n"
     ]
    },
    {
     "name": "stderr",
     "output_type": "stream",
     "text": [
      " 10%|█         | 1/10 [01:58<17:46, 118.54s/it]"
     ]
    },
    {
     "name": "stdout",
     "output_type": "stream",
     "text": [
      "Train Loss 0.3310688213944435 Train Accuracy 0.8565 \n",
      " Test Loss 0.1974315347897399 Test Accuracy 0.9195859872611465\n",
      "Epoch 1 ---------------\n",
      "\n"
     ]
    },
    {
     "name": "stderr",
     "output_type": "stream",
     "text": [
      " 20%|██        | 2/10 [03:54<15:36, 117.07s/it]"
     ]
    },
    {
     "name": "stdout",
     "output_type": "stream",
     "text": [
      "Train Loss 0.1842671175569296 Train Accuracy 0.92665 \n",
      " Test Loss 0.15631259770197853 Test Accuracy 0.9345143312101911\n",
      "Epoch 2 ---------------\n",
      "\n"
     ]
    },
    {
     "name": "stderr",
     "output_type": "stream",
     "text": [
      " 30%|███       | 3/10 [05:48<13:30, 115.78s/it]"
     ]
    },
    {
     "name": "stdout",
     "output_type": "stream",
     "text": [
      "Train Loss 0.12145290610864759 Train Accuracy 0.95435 \n",
      " Test Loss 0.17663386269549655 Test Accuracy 0.9331210191082803\n",
      "Epoch 3 ---------------\n",
      "\n"
     ]
    },
    {
     "name": "stderr",
     "output_type": "stream",
     "text": [
      " 40%|████      | 4/10 [07:47<11:42, 117.07s/it]"
     ]
    },
    {
     "name": "stdout",
     "output_type": "stream",
     "text": [
      "Train Loss 0.09767563297599555 Train Accuracy 0.96245 \n",
      " Test Loss 0.1795882267497812 Test Accuracy 0.9285429936305732\n",
      "Epoch 4 ---------------\n",
      "\n"
     ]
    },
    {
     "name": "stderr",
     "output_type": "stream",
     "text": [
      " 50%|█████     | 5/10 [09:41<09:39, 115.86s/it]"
     ]
    },
    {
     "name": "stdout",
     "output_type": "stream",
     "text": [
      "Train Loss 0.07808468273766339 Train Accuracy 0.96965 \n",
      " Test Loss 0.16546041332778466 Test Accuracy 0.9351114649681529\n",
      "Epoch 5 ---------------\n",
      "\n"
     ]
    },
    {
     "name": "stderr",
     "output_type": "stream",
     "text": [
      " 60%|██████    | 6/10 [11:37<07:44, 116.04s/it]"
     ]
    },
    {
     "name": "stdout",
     "output_type": "stream",
     "text": [
      "Train Loss 0.06427345790397376 Train Accuracy 0.9765 \n",
      " Test Loss 0.1681035481494181 Test Accuracy 0.9400875796178344\n",
      "Epoch 6 ---------------\n",
      "\n"
     ]
    },
    {
     "name": "stderr",
     "output_type": "stream",
     "text": [
      " 70%|███████   | 7/10 [13:34<05:48, 116.18s/it]"
     ]
    },
    {
     "name": "stdout",
     "output_type": "stream",
     "text": [
      "Train Loss 0.05705080909412354 Train Accuracy 0.97885 \n",
      " Test Loss 0.16921300689577107 Test Accuracy 0.9408837579617835\n",
      "Epoch 7 ---------------\n",
      "\n"
     ]
    },
    {
     "name": "stderr",
     "output_type": "stream",
     "text": [
      " 80%|████████  | 8/10 [15:28<03:50, 115.46s/it]"
     ]
    },
    {
     "name": "stdout",
     "output_type": "stream",
     "text": [
      "Train Loss 0.04872205804315163 Train Accuracy 0.9811 \n",
      " Test Loss 0.1935259841744355 Test Accuracy 0.9428742038216561\n",
      "Epoch 8 ---------------\n",
      "\n"
     ]
    },
    {
     "name": "stderr",
     "output_type": "stream",
     "text": [
      " 90%|█████████ | 9/10 [17:22<01:55, 115.20s/it]"
     ]
    },
    {
     "name": "stdout",
     "output_type": "stream",
     "text": [
      "Train Loss 0.05411596630034037 Train Accuracy 0.9796 \n",
      " Test Loss 0.19130272862863293 Test Accuracy 0.9376990445859873\n",
      "Epoch 9 ---------------\n",
      "\n"
     ]
    },
    {
     "name": "stderr",
     "output_type": "stream",
     "text": [
      "100%|██████████| 10/10 [19:17<00:00, 115.80s/it]"
     ]
    },
    {
     "name": "stdout",
     "output_type": "stream",
     "text": [
      "Train Loss 0.045288269410841166 Train Accuracy 0.9843 \n",
      " Test Loss 0.19810074409596018 Test Accuracy 0.9396894904458599\n"
     ]
    },
    {
     "name": "stderr",
     "output_type": "stream",
     "text": [
      "\n"
     ]
    }
   ],
   "source": [
    "results_Efficient_NET = train_model(model_1,train_loader=train_dataset_laoder,test_loader=validation_dataset_loader,loss_fn=loss_fn,optimizer=optim,epochs=10,device=device)"
   ]
  },
  {
   "cell_type": "code",
   "execution_count": null,
   "metadata": {},
   "outputs": [],
   "source": [
    "def DenseNet_model(fine_tuned=True, num_classes=2):\n",
    "\n",
    "    model = models.densenet169(pretrained=True)\n",
    "\n",
    "   \n",
    "    if fine_tuned:\n",
    "        print('[INFO] Fine-tuning all layers...')\n",
    "        for params in model.parameters():\n",
    "            params.requires_grad = True\n",
    "    else:\n",
    "        print('[INFO] Freezing hidden layers...')\n",
    "        for params in model.parameters():\n",
    "            params.requires_grad = False\n",
    "\n",
    "    model.classifier = nn.Sequential(\n",
    "        nn.Linear(in_features=1664, out_features=1024), \n",
    "        nn.ReLU(),\n",
    "        nn.Dropout(0.5), \n",
    "        nn.Linear(1024, num_classes)  \n",
    "    )\n",
    "    \n",
    "    return model"
   ]
  },
  {
   "cell_type": "code",
   "execution_count": 33,
   "metadata": {},
   "outputs": [
    {
     "name": "stderr",
     "output_type": "stream",
     "text": [
      "c:\\Users\\HP\\Desktop\\CatvsDogs\\venv\\Lib\\site-packages\\torchvision\\models\\_utils.py:208: UserWarning: The parameter 'pretrained' is deprecated since 0.13 and may be removed in the future, please use 'weights' instead.\n",
      "  warnings.warn(\n",
      "c:\\Users\\HP\\Desktop\\CatvsDogs\\venv\\Lib\\site-packages\\torchvision\\models\\_utils.py:223: UserWarning: Arguments other than a weight enum or `None` for 'weights' are deprecated since 0.13 and may be removed in the future. The current behavior is equivalent to passing `weights=DenseNet169_Weights.IMAGENET1K_V1`. You can also use `weights=DenseNet169_Weights.DEFAULT` to get the most up-to-date weights.\n",
      "  warnings.warn(msg)\n"
     ]
    },
    {
     "name": "stdout",
     "output_type": "stream",
     "text": [
      "[INFO] Fine-tuning all layers...\n"
     ]
    }
   ],
   "source": [
    "model_2 = DenseNet_model().to(device)"
   ]
  },
  {
   "cell_type": "code",
   "execution_count": 34,
   "metadata": {},
   "outputs": [],
   "source": [
    "loss_fn = nn.CrossEntropyLoss()\n",
    "optim = torch.optim.Adam(params=model_2.parameters())"
   ]
  },
  {
   "cell_type": "code",
   "execution_count": 35,
   "metadata": {},
   "outputs": [
    {
     "name": "stderr",
     "output_type": "stream",
     "text": [
      "  0%|          | 0/10 [00:00<?, ?it/s]"
     ]
    },
    {
     "name": "stdout",
     "output_type": "stream",
     "text": [
      "Epoch 0 ---------------\n",
      "\n"
     ]
    },
    {
     "name": "stderr",
     "output_type": "stream",
     "text": [
      " 10%|█         | 1/10 [02:30<22:35, 150.61s/it]"
     ]
    },
    {
     "name": "stdout",
     "output_type": "stream",
     "text": [
      "Train Loss 0.4257818376302719 Train Accuracy 0.8115 \n",
      " Test Loss 0.4325523793127886 Test Accuracy 0.8061305732484076\n",
      "Epoch 1 ---------------\n",
      "\n"
     ]
    },
    {
     "name": "stderr",
     "output_type": "stream",
     "text": [
      " 20%|██        | 2/10 [04:58<19:53, 149.21s/it]"
     ]
    },
    {
     "name": "stdout",
     "output_type": "stream",
     "text": [
      "Train Loss 0.2800467232108116 Train Accuracy 0.8836 \n",
      " Test Loss 0.29281274950618197 Test Accuracy 0.8929140127388535\n",
      "Epoch 2 ---------------\n",
      "\n"
     ]
    },
    {
     "name": "stderr",
     "output_type": "stream",
     "text": [
      " 30%|███       | 3/10 [07:26<17:19, 148.43s/it]"
     ]
    },
    {
     "name": "stdout",
     "output_type": "stream",
     "text": [
      "Train Loss 0.22063651666641235 Train Accuracy 0.9107 \n",
      " Test Loss 0.2512932825999655 Test Accuracy 0.8947054140127388\n",
      "Epoch 3 ---------------\n",
      "\n"
     ]
    },
    {
     "name": "stderr",
     "output_type": "stream",
     "text": [
      " 40%|████      | 4/10 [09:52<14:44, 147.45s/it]"
     ]
    },
    {
     "name": "stdout",
     "output_type": "stream",
     "text": [
      "Train Loss 0.3096795393109322 Train Accuracy 0.8678 \n",
      " Test Loss 0.38871244013689127 Test Accuracy 0.8316082802547771\n",
      "Epoch 4 ---------------\n",
      "\n"
     ]
    },
    {
     "name": "stderr",
     "output_type": "stream",
     "text": [
      " 50%|█████     | 5/10 [12:16<12:10, 146.12s/it]"
     ]
    },
    {
     "name": "stdout",
     "output_type": "stream",
     "text": [
      "Train Loss 0.26709395704567435 Train Accuracy 0.8928 \n",
      " Test Loss 0.27665898528922894 Test Accuracy 0.89171974522293\n",
      "Epoch 5 ---------------\n",
      "\n"
     ]
    },
    {
     "name": "stderr",
     "output_type": "stream",
     "text": [
      " 60%|██████    | 6/10 [14:43<09:46, 146.56s/it]"
     ]
    },
    {
     "name": "stdout",
     "output_type": "stream",
     "text": [
      "Train Loss 0.1759983758509159 Train Accuracy 0.92985 \n",
      " Test Loss 0.22372539723469953 Test Accuracy 0.9092356687898089\n",
      "Epoch 6 ---------------\n",
      "\n"
     ]
    },
    {
     "name": "stderr",
     "output_type": "stream",
     "text": [
      " 70%|███████   | 7/10 [17:10<07:19, 146.62s/it]"
     ]
    },
    {
     "name": "stdout",
     "output_type": "stream",
     "text": [
      "Train Loss 0.1502228457391262 Train Accuracy 0.94085 \n",
      " Test Loss 0.24178810994241648 Test Accuracy 0.9068471337579618\n",
      "Epoch 7 ---------------\n",
      "\n"
     ]
    },
    {
     "name": "stderr",
     "output_type": "stream",
     "text": [
      " 80%|████████  | 8/10 [19:37<04:53, 146.85s/it]"
     ]
    },
    {
     "name": "stdout",
     "output_type": "stream",
     "text": [
      "Train Loss 0.13338007597252727 Train Accuracy 0.9466 \n",
      " Test Loss 0.20667872396386733 Test Accuracy 0.9205812101910829\n",
      "Epoch 8 ---------------\n",
      "\n"
     ]
    },
    {
     "name": "stderr",
     "output_type": "stream",
     "text": [
      " 90%|█████████ | 9/10 [22:04<02:26, 146.91s/it]"
     ]
    },
    {
     "name": "stdout",
     "output_type": "stream",
     "text": [
      "Train Loss 0.1106377739213407 Train Accuracy 0.95625 \n",
      " Test Loss 0.22033418567886778 Test Accuracy 0.9120222929936306\n",
      "Epoch 9 ---------------\n",
      "\n"
     ]
    },
    {
     "name": "stderr",
     "output_type": "stream",
     "text": [
      "100%|██████████| 10/10 [24:30<00:00, 147.06s/it]"
     ]
    },
    {
     "name": "stdout",
     "output_type": "stream",
     "text": [
      "Train Loss 0.10533593858331441 Train Accuracy 0.9603 \n",
      " Test Loss 0.232233722142543 Test Accuracy 0.9064490445859873\n"
     ]
    },
    {
     "name": "stderr",
     "output_type": "stream",
     "text": [
      "\n"
     ]
    }
   ],
   "source": [
    "results_DenseNet_NET = train_model(model_2,train_loader=train_dataset_laoder,test_loader=validation_dataset_loader,loss_fn=loss_fn,optimizer=optim,epochs=10,device=device)"
   ]
  },
  {
   "cell_type": "code",
   "execution_count": 36,
   "metadata": {},
   "outputs": [],
   "source": [
    "def show_models(results):\n",
    "    import matplotlib.pyplot as plt\n",
    "    epochs = range(len(results['test_loss']))\n",
    "    plt.subplot(1,2,1)\n",
    "    plt.plot(epochs,results['test_loss'],label='test_loss')\n",
    "    plt.plot(epochs,results['train_loss'],label='train_loss')\n",
    "    plt.legend()\n",
    "    plt.title('Loss')\n",
    "    plt.subplot(1,2,2)\n",
    "    plt.plot(epochs,results['train_acc'],label='train_acc')\n",
    "    plt.plot(epochs,results['test_acc'],label='test_acc')\n",
    "    plt.legend()\n",
    "    plt.title('Accuracy')\n",
    "    "
   ]
  },
  {
   "cell_type": "code",
   "execution_count": 37,
   "metadata": {},
   "outputs": [
    {
     "data": {
      "image/png": "[encoded data removed]",
      "text/plain": [
       "<Figure size 640x480 with 2 Axes>"
      ]
     },
     "metadata": {},
     "output_type": "display_data"
    }
   ],
   "source": [
    "show_models(results_DenseNet_NET)"
   ]
  },
  {
   "cell_type": "code",
   "execution_count": 38,
   "metadata": {},
   "outputs": [
    {
     "data": {
      "image/png": "[encoded data removed]",
      "text/plain": [
       "<Figure size 640x480 with 2 Axes>"
      ]
     },
     "metadata": {},
     "output_type": "display_data"
    }
   ],
   "source": [
    "show_models(results)"
   ]
  },
  {
   "cell_type": "code",
   "execution_count": 39,
   "metadata": {},
   "outputs": [
    {
     "data": {
      "image/png": "[encoded data removed]",
      "text/plain": [
       "<Figure size 640x480 with 2 Axes>"
      ]
     },
     "metadata": {},
     "output_type": "display_data"
    }
   ],
   "source": [
    "show_models(results_Efficient_NET)"
   ]
  },
  {
   "cell_type": "code",
   "execution_count": null,
   "metadata": {},
   "outputs": [],
   "source": []
  }
 ],
 "metadata": {
  "kernelspec": {
   "display_name": "venv",
   "language": "python",
   "name": "python3"
  },
  "language_info": {
   "codemirror_mode": {
    "name": "ipython",
    "version": 3
   },
   "file_extension": ".py",
   "mimetype": "text/x-python",
   "name": "python",
   "nbconvert_exporter": "python",
   "pygments_lexer": "ipython3",
   "version": "3.13.1"
  }
 },
 "nbformat": 4,
 "nbformat_minor": 2
}
