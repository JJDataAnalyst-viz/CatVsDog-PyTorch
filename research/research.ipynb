{
 "cells": [
  {
   "cell_type": "code",
   "execution_count": 1,
   "metadata": {},
   "outputs": [],
   "source": [
    "import kaggle\n",
    "from kaggle.api.kaggle_api_extended import KaggleApi\n",
    "api = KaggleApi()\n",
    "api.authenticate()\n",
    "# api.competition_download_files('dogs-vs-cats',path='../data/raw')"
   ]
  },
  {
   "cell_type": "code",
   "execution_count": 2,
   "metadata": {},
   "outputs": [],
   "source": [
    "import zipfile \n",
    "import os\n",
    "\n",
    "with zipfile.ZipFile('../data/raw/dogs-vs-cats.zip','r') as file:\n",
    "    file.extractall('../data/raw/unzipped')\n",
    "\n",
    "with zipfile.ZipFile('../data/raw/unzipped/test1.zip','r') as file:\n",
    "    file.extractall('../data/raw/unzipped/test/')\n",
    "\n",
    "\n",
    "with zipfile.ZipFile('../data/raw/unzipped/train.zip','r') as file:\n",
    "    file.extractall('../data/raw/unzipped/')"
   ]
  },
  {
   "cell_type": "code",
   "execution_count": 3,
   "metadata": {},
   "outputs": [],
   "source": [
    "import re\n",
    "import shutil\n",
    "import pathlib\n",
    "cat_folder = 'cat'\n",
    "dog_folder = 'dog'\n",
    "x = None\n",
    "if x:\n",
    "    for dirname,filename,image in os.walk('../data/raw/unzipped/train'):\n",
    "        print(f'{len(filename)} is {len(image)} in {dirname}')\n",
    "        # print(str(image))\n",
    "\n",
    "        if os.path.exists('data/raw/unzipped/train1'):\n",
    "            break\n",
    "        else:\n",
    "            os.makedirs('data/raw/unzipped/rain1',exist_ok=True)\n",
    "            for i in image:\n",
    "                if str(i).split('.')[0] == cat_folder:\n",
    "                    shutil.copy(os.path.join(str(dirname),str(i)),dst='../data/raw/unzipped/train1/cat')\n",
    "            \n",
    "                elif str(i).split('.')[0] == dog_folder:\n",
    "                    shutil.copy(os.path.join(str(dirname),str(i)),dst='../data/raw/unzipped/train1/dog')\n",
    "                \n",
    "    "
   ]
  },
  {
   "cell_type": "code",
   "execution_count": 4,
   "metadata": {},
   "outputs": [],
   "source": [
    "import torch\n",
    "from torch.utils.data import DataLoader,Dataset\n",
    "from torchvision import datasets,transforms,models"
   ]
  },
  {
   "cell_type": "code",
   "execution_count": 5,
   "metadata": {},
   "outputs": [],
   "source": [
    "transforms_train = transforms.Compose([\n",
    "    transforms.Resize(size=(64,64)),\n",
    "    transforms.AutoAugment(),\n",
    "    transforms.ToTensor()\n",
    "])\n",
    "transforms_test = transforms.Compose([\n",
    "    transforms.Resize(size=(64,64)),\n",
    "    transforms.ToTensor()\n",
    "])"
   ]
  },
  {
   "cell_type": "code",
   "execution_count": 6,
   "metadata": {},
   "outputs": [],
   "source": [
    "train_dataset = datasets.ImageFolder('../data/raw/unzipped/train1',transform=transforms_test)"
   ]
  },
  {
   "cell_type": "code",
   "execution_count": 7,
   "metadata": {},
   "outputs": [
    {
     "data": {
      "text/plain": [
       "{'cat': 0, 'dog': 1}"
      ]
     },
     "execution_count": 7,
     "metadata": {},
     "output_type": "execute_result"
    }
   ],
   "source": [
    "train_dataset.class_to_idx"
   ]
  },
  {
   "cell_type": "code",
   "execution_count": 8,
   "metadata": {},
   "outputs": [],
   "source": [
    "test_dataset = datasets.ImageFolder('../data/raw/unzipped/test',transform=transforms_test)"
   ]
  },
  {
   "cell_type": "code",
   "execution_count": 9,
   "metadata": {},
   "outputs": [
    {
     "data": {
      "text/plain": [
       "Dataset ImageFolder\n",
       "    Number of datapoints: 25000\n",
       "    Root location: ../data/raw/unzipped/test\n",
       "    StandardTransform\n",
       "Transform: Compose(\n",
       "               Resize(size=(64, 64), interpolation=bilinear, max_size=None, antialias=True)\n",
       "               ToTensor()\n",
       "           )"
      ]
     },
     "execution_count": 9,
     "metadata": {},
     "output_type": "execute_result"
    }
   ],
   "source": [
    "test_dataset"
   ]
  },
  {
   "cell_type": "code",
   "execution_count": 10,
   "metadata": {},
   "outputs": [],
   "source": [
    "img,label = train_dataset[0]"
   ]
  },
  {
   "cell_type": "code",
   "execution_count": 11,
   "metadata": {},
   "outputs": [],
   "source": [
    "TRAIN_SIZE = int((len(train_dataset)*0.8))\n",
    "VALIDATION_SIZE = int(len(train_dataset)*0.2)"
   ]
  },
  {
   "cell_type": "code",
   "execution_count": 12,
   "metadata": {},
   "outputs": [
    {
     "data": {
      "text/plain": [
       "20000"
      ]
     },
     "execution_count": 12,
     "metadata": {},
     "output_type": "execute_result"
    }
   ],
   "source": [
    "TRAIN_SIZE"
   ]
  },
  {
   "cell_type": "code",
   "execution_count": 13,
   "metadata": {},
   "outputs": [],
   "source": [
    "train_dataset,validation_dataset = torch.utils.data.random_split(train_dataset,[TRAIN_SIZE,VALIDATION_SIZE])"
   ]
  },
  {
   "cell_type": "code",
   "execution_count": 14,
   "metadata": {},
   "outputs": [],
   "source": [
    "img,label = validation_dataset[0]"
   ]
  },
  {
   "cell_type": "code",
   "execution_count": 15,
   "metadata": {},
   "outputs": [
    {
     "data": {
      "text/plain": [
       "tensor([[[0.7647, 0.7608, 0.7647,  ..., 0.7686, 0.7686, 0.7686],\n",
       "         [0.7647, 0.7569, 0.7608,  ..., 0.7647, 0.7686, 0.7686],\n",
       "         [0.7608, 0.7647, 0.7647,  ..., 0.7647, 0.7686, 0.7647],\n",
       "         ...,\n",
       "         [0.3922, 0.4392, 0.3922,  ..., 0.5882, 0.5647, 0.6157],\n",
       "         [0.4157, 0.4431, 0.4157,  ..., 0.5843, 0.5882, 0.5608],\n",
       "         [0.4039, 0.4314, 0.4431,  ..., 0.5961, 0.6196, 0.5922]],\n",
       "\n",
       "        [[0.7725, 0.7686, 0.7725,  ..., 0.7686, 0.7686, 0.7686],\n",
       "         [0.7725, 0.7647, 0.7686,  ..., 0.7686, 0.7686, 0.7686],\n",
       "         [0.7686, 0.7725, 0.7725,  ..., 0.7686, 0.7686, 0.7647],\n",
       "         ...,\n",
       "         [0.3451, 0.3882, 0.3255,  ..., 0.5647, 0.5451, 0.6000],\n",
       "         [0.3608, 0.3843, 0.3569,  ..., 0.5529, 0.5647, 0.5490],\n",
       "         [0.3490, 0.3765, 0.3961,  ..., 0.5686, 0.5961, 0.5804]],\n",
       "\n",
       "        [[0.7686, 0.7647, 0.7686,  ..., 0.7686, 0.7686, 0.7686],\n",
       "         [0.7686, 0.7608, 0.7647,  ..., 0.7686, 0.7686, 0.7686],\n",
       "         [0.7647, 0.7686, 0.7686,  ..., 0.7647, 0.7686, 0.7647],\n",
       "         ...,\n",
       "         [0.2078, 0.2667, 0.2039,  ..., 0.5294, 0.5098, 0.5686],\n",
       "         [0.2157, 0.2549, 0.2275,  ..., 0.5255, 0.5294, 0.5137],\n",
       "         [0.1922, 0.2314, 0.2549,  ..., 0.5451, 0.5647, 0.5412]]])"
      ]
     },
     "execution_count": 15,
     "metadata": {},
     "output_type": "execute_result"
    }
   ],
   "source": [
    "img"
   ]
  },
  {
   "cell_type": "code",
   "execution_count": 16,
   "metadata": {},
   "outputs": [],
   "source": [
    "import torch\n",
    "from torch import nn\n",
    "import torchinfo\n",
    "device = \"cuda\" if torch.cuda.is_available() else \"cpu\""
   ]
  },
  {
   "cell_type": "code",
   "execution_count": 37,
   "metadata": {},
   "outputs": [
    {
     "data": {
      "text/plain": [
       "'cuda'"
      ]
     },
     "execution_count": 37,
     "metadata": {},
     "output_type": "execute_result"
    }
   ],
   "source": [
    "device"
   ]
  },
  {
   "cell_type": "code",
   "execution_count": 17,
   "metadata": {},
   "outputs": [],
   "source": [
    "class TinyVGGV0(nn.Module):\n",
    "    def __init__(self,input_features,hidden_state,output_features):\n",
    "        super().__init__()\n",
    "        \n",
    "        self.conv_layer_1 = nn.Sequential(\n",
    "            nn.Conv2d(in_channels=input_features,out_channels=hidden_state,\n",
    "                      kernel_size=3,\n",
    "                      padding=1,\n",
    "                      stride=1),\n",
    "            nn.ReLU(),\n",
    "            nn.Conv2d(in_channels=hidden_state,out_channels=hidden_state,\n",
    "                      kernel_size=3,\n",
    "                      padding=1,\n",
    "                      stride=1),\n",
    "            nn.ReLU(),\n",
    "            nn.MaxPool2d(kernel_size=2,stride=2)\n",
    "        )\n",
    "\n",
    "        self.conv_layer_2 = nn.Sequential(\n",
    "                   nn.Conv2d(in_channels=hidden_state,out_channels=hidden_state,\n",
    "                      kernel_size=3,\n",
    "                      padding=1,\n",
    "                      stride=1),\n",
    "            nn.ReLU(),\n",
    "            nn.Conv2d(in_channels=hidden_state,out_channels=hidden_state,\n",
    "                      kernel_size=3,\n",
    "                      padding=1,\n",
    "                      stride=1),\n",
    "            nn.ReLU(),\n",
    "            nn.MaxPool2d(kernel_size=2,stride=2)\n",
    "        )\n",
    "        \n",
    "\n",
    "        self.layer_stack = nn.Sequential(\n",
    "            nn.Flatten(),\n",
    "            nn.Linear(in_features=10*16*16,out_features=output_features)\n",
    "        )\n",
    "\n",
    "    def forward(self,x):\n",
    "        x = self.conv_layer_1(x)\n",
    "        # print(f' After first conv1 layer : {x.shape}')\n",
    "        x = self.conv_layer_2(x)\n",
    "        # print(f' After second conv2 layer : {x.shape}')\n",
    "        return self.layer_stack(x)"
   ]
  },
  {
   "cell_type": "code",
   "execution_count": 18,
   "metadata": {},
   "outputs": [],
   "source": [
    "BATCH_SIZE = 32\n",
    "train_dataset_laoder = DataLoader(train_dataset,BATCH_SIZE,shuffle=True,num_workers=os.cpu_count())\n",
    "validation_dataset_loader = DataLoader(validation_dataset,BATCH_SIZE,shuffle=False,num_workers=os.cpu_count())\n",
    "Dtest_dataset_loader = DataLoader(test_dataset,BATCH_SIZE,shuffle=False,num_workers=os.cpu_count())"
   ]
  },
  {
   "cell_type": "code",
   "execution_count": 19,
   "metadata": {},
   "outputs": [],
   "source": [
    "model_0 = TinyVGGV0(3,hidden_state=10,output_features=2).to(device)"
   ]
  },
  {
   "cell_type": "code",
   "execution_count": 20,
   "metadata": {},
   "outputs": [
    {
     "data": {
      "text/plain": [
       "==========================================================================================\n",
       "Layer (type:depth-idx)                   Output Shape              Param #\n",
       "==========================================================================================\n",
       "TinyVGGV0                                [32, 2]                   --\n",
       "├─Sequential: 1-1                        [32, 10, 32, 32]          --\n",
       "│    └─Conv2d: 2-1                       [32, 10, 64, 64]          280\n",
       "│    └─ReLU: 2-2                         [32, 10, 64, 64]          --\n",
       "│    └─Conv2d: 2-3                       [32, 10, 64, 64]          910\n",
       "│    └─ReLU: 2-4                         [32, 10, 64, 64]          --\n",
       "│    └─MaxPool2d: 2-5                    [32, 10, 32, 32]          --\n",
       "├─Sequential: 1-2                        [32, 10, 16, 16]          --\n",
       "│    └─Conv2d: 2-6                       [32, 10, 32, 32]          910\n",
       "│    └─ReLU: 2-7                         [32, 10, 32, 32]          --\n",
       "│    └─Conv2d: 2-8                       [32, 10, 32, 32]          910\n",
       "│    └─ReLU: 2-9                         [32, 10, 32, 32]          --\n",
       "│    └─MaxPool2d: 2-10                   [32, 10, 16, 16]          --\n",
       "├─Sequential: 1-3                        [32, 2]                   --\n",
       "│    └─Flatten: 2-11                     [32, 2560]                --\n",
       "│    └─Linear: 2-12                      [32, 2]                   5,122\n",
       "==========================================================================================\n",
       "Total params: 8,132\n",
       "Trainable params: 8,132\n",
       "Non-trainable params: 0\n",
       "Total mult-adds (Units.MEGABYTES): 215.78\n",
       "==========================================================================================\n",
       "Input size (MB): 1.57\n",
       "Forward/backward pass size (MB): 26.21\n",
       "Params size (MB): 0.03\n",
       "Estimated Total Size (MB): 27.82\n",
       "=========================================================================================="
      ]
     },
     "execution_count": 20,
     "metadata": {},
     "output_type": "execute_result"
    }
   ],
   "source": [
    "torchinfo.summary(model_0,input_size=[32,3,64,64])"
   ]
  },
  {
   "cell_type": "code",
   "execution_count": 21,
   "metadata": {},
   "outputs": [],
   "source": [
    "\n",
    "loss_fn = nn.CrossEntropyLoss()\n",
    "optim = torch.optim.Adam(params=model_0.parameters())"
   ]
  },
  {
   "cell_type": "code",
   "execution_count": 22,
   "metadata": {},
   "outputs": [],
   "source": [
    "def train_step(model,dataloader,loss_fn,optimizer,device=device):\n",
    "    model.train()\n",
    "\n",
    "    train_loss,train_accuracy = 0,0\n",
    "\n",
    "    for batch,(X,y) in enumerate(dataloader):\n",
    "\n",
    "        X,y = X.to(device),y.to(device)\n",
    "\n",
    "        y_preds = model(X)\n",
    "\n",
    "        loss = loss_fn(y_preds,y)\n",
    "\n",
    "        train_loss += loss.item()\n",
    "\n",
    "        accuracer = torch.argmax(torch.softmax(y_preds,dim=1),dim=1)\n",
    "\n",
    "        train_accuracy += (accuracer==y).sum().item()/len(y_preds)\n",
    "\n",
    "        optimizer.zero_grad()\n",
    "\n",
    "        loss.backward()\n",
    "\n",
    "        optimizer.step()\n",
    "    train_loss /= len(dataloader)\n",
    "    train_accuracy /= len(dataloader)\n",
    "    return train_loss,train_accuracy"
   ]
  },
  {
   "cell_type": "code",
   "execution_count": 23,
   "metadata": {},
   "outputs": [],
   "source": [
    "def validation_step(model,dataloader,loss_fn,device=device):\n",
    "    model.eval()\n",
    "\n",
    "    test_loss,test_accuracy = 0,0\n",
    "\n",
    "    with torch.inference_mode():\n",
    "        for batch,(X,y) in enumerate(dataloader):\n",
    "            X,y = X.to(device),y.to(device)\n",
    "\n",
    "            y_pred = model(X)\n",
    "\n",
    "            loss  = loss_fn(y_pred,y)\n",
    "\n",
    "            test_loss += loss.item()\n",
    "\n",
    "            y_pred_class = torch.argmax(torch.softmax(y_pred,dim=1),dim=1)\n",
    "\n",
    "            test_accuracy += (y_pred_class == y).sum().item()/len(y_pred)\n",
    "\n",
    "        test_loss /= len(dataloader)\n",
    "        test_accuracy /= len(dataloader)\n",
    "        return test_loss,test_accuracy"
   ]
  },
  {
   "cell_type": "code",
   "execution_count": 24,
   "metadata": {},
   "outputs": [],
   "source": [
    "def train_model(model,train_loader,test_loader,loss_fn,optimizer,epochs,device=device):\n",
    "    from tqdm.auto import tqdm\n",
    "    results = {\"train_loss\" : [],\n",
    "               \"train_acc\": [],\n",
    "               \"test_loss\": [],\n",
    "               \"test_acc\":[]}\n",
    "    for epoch in tqdm(range(epochs)):\n",
    "        print(f'Epoch {epoch} ---------------\\n')\n",
    "\n",
    "        train_loss,train_accuracy = train_step(model,train_loader,loss_fn,optimizer,device=device)\n",
    "        test_loss,test_accuracy = validation_step(model,test_loader,loss_fn,device=device)\n",
    "\n",
    "        print(f'Train Loss {train_loss} Train Accuracy {train_accuracy} \\n Test Loss {test_loss} Test Accuracy {test_accuracy}')\n",
    "\n",
    "        results[\"test_loss\"].append(test_loss)\n",
    "        results['test_acc'].append(test_accuracy)\n",
    "        results['train_acc'].append(train_accuracy)\n",
    "        results['train_loss'].append(train_loss)\n",
    "\n",
    "    return results"
   ]
  },
  {
   "cell_type": "code",
   "execution_count": 25,
   "metadata": {},
   "outputs": [
    {
     "name": "stderr",
     "output_type": "stream",
     "text": [
      "c:\\Users\\HP\\Desktop\\CatvsDogs\\venv\\Lib\\site-packages\\tqdm\\auto.py:21: TqdmWarning: IProgress not found. Please update jupyter and ipywidgets. See https://ipywidgets.readthedocs.io/en/stable/user_install.html\n",
      "  from .autonotebook import tqdm as notebook_tqdm\n",
      "  0%|          | 0/10 [00:00<?, ?it/s]"
     ]
    },
    {
     "name": "stdout",
     "output_type": "stream",
     "text": [
      "Epoch 0 ---------------\n",
      "\n"
     ]
    },
    {
     "name": "stderr",
     "output_type": "stream",
     "text": [
      " 10%|█         | 1/10 [01:17<11:40, 77.80s/it]"
     ]
    },
    {
     "name": "stdout",
     "output_type": "stream",
     "text": [
      "Train Loss 0.6681615257740021 Train Accuracy 0.58655 \n",
      " Test Loss 0.621417238833798 Test Accuracy 0.6584394904458599\n",
      "Epoch 1 ---------------\n",
      "\n"
     ]
    },
    {
     "name": "stderr",
     "output_type": "stream",
     "text": [
      " 20%|██        | 2/10 [02:35<10:19, 77.47s/it]"
     ]
    },
    {
     "name": "stdout",
     "output_type": "stream",
     "text": [
      "Train Loss 0.5932997052669525 Train Accuracy 0.68595 \n",
      " Test Loss 0.5695221467762236 Test Accuracy 0.6990445859872612\n",
      "Epoch 2 ---------------\n",
      "\n"
     ]
    },
    {
     "name": "stderr",
     "output_type": "stream",
     "text": [
      " 30%|███       | 3/10 [03:54<09:08, 78.36s/it]"
     ]
    },
    {
     "name": "stdout",
     "output_type": "stream",
     "text": [
      "Train Loss 0.5375394958496094 Train Accuracy 0.7315 \n",
      " Test Loss 0.5361212351519591 Test Accuracy 0.7368630573248408\n",
      "Epoch 3 ---------------\n",
      "\n"
     ]
    },
    {
     "name": "stderr",
     "output_type": "stream",
     "text": [
      " 40%|████      | 4/10 [05:13<07:51, 78.66s/it]"
     ]
    },
    {
     "name": "stdout",
     "output_type": "stream",
     "text": [
      "Train Loss 0.5012440374612809 Train Accuracy 0.75785 \n",
      " Test Loss 0.5015817233331644 Test Accuracy 0.7541799363057324\n",
      "Epoch 4 ---------------\n",
      "\n"
     ]
    },
    {
     "name": "stderr",
     "output_type": "stream",
     "text": [
      " 50%|█████     | 5/10 [06:33<06:35, 79.04s/it]"
     ]
    },
    {
     "name": "stdout",
     "output_type": "stream",
     "text": [
      "Train Loss 0.4773612013339996 Train Accuracy 0.7745 \n",
      " Test Loss 0.48633515844299535 Test Accuracy 0.7691082802547771\n",
      "Epoch 5 ---------------\n",
      "\n"
     ]
    },
    {
     "name": "stderr",
     "output_type": "stream",
     "text": [
      " 60%|██████    | 6/10 [07:52<05:15, 78.99s/it]"
     ]
    },
    {
     "name": "stdout",
     "output_type": "stream",
     "text": [
      "Train Loss 0.460165413236618 Train Accuracy 0.7841 \n",
      " Test Loss 0.47375593557479273 Test Accuracy 0.7832404458598726\n",
      "Epoch 6 ---------------\n",
      "\n"
     ]
    },
    {
     "name": "stderr",
     "output_type": "stream",
     "text": [
      " 70%|███████   | 7/10 [09:11<03:57, 79.25s/it]"
     ]
    },
    {
     "name": "stdout",
     "output_type": "stream",
     "text": [
      "Train Loss 0.4454728440999985 Train Accuracy 0.79425 \n",
      " Test Loss 0.4874720885685295 Test Accuracy 0.7659235668789809\n",
      "Epoch 7 ---------------\n",
      "\n"
     ]
    },
    {
     "name": "stderr",
     "output_type": "stream",
     "text": [
      " 80%|████████  | 8/10 [10:27<02:36, 78.02s/it]"
     ]
    },
    {
     "name": "stdout",
     "output_type": "stream",
     "text": [
      "Train Loss 0.433312353515625 Train Accuracy 0.79655 \n",
      " Test Loss 0.4704133417386158 Test Accuracy 0.7746815286624203\n",
      "Epoch 8 ---------------\n",
      "\n"
     ]
    },
    {
     "name": "stderr",
     "output_type": "stream",
     "text": [
      " 90%|█████████ | 9/10 [11:42<01:17, 77.26s/it]"
     ]
    },
    {
     "name": "stdout",
     "output_type": "stream",
     "text": [
      "Train Loss 0.42378389785289766 Train Accuracy 0.80685 \n",
      " Test Loss 0.45615036149693144 Test Accuracy 0.7872213375796179\n",
      "Epoch 9 ---------------\n",
      "\n"
     ]
    },
    {
     "name": "stderr",
     "output_type": "stream",
     "text": [
      "100%|██████████| 10/10 [12:58<00:00, 77.83s/it]"
     ]
    },
    {
     "name": "stdout",
     "output_type": "stream",
     "text": [
      "Train Loss 0.41261596455574034 Train Accuracy 0.8108 \n",
      " Test Loss 0.481785256107142 Test Accuracy 0.7752786624203821\n"
     ]
    },
    {
     "name": "stderr",
     "output_type": "stream",
     "text": [
      "\n"
     ]
    }
   ],
   "source": [
    "results = train_model(model_0,train_loader=train_dataset_laoder,test_loader=validation_dataset_loader,loss_fn=loss_fn,optimizer=optim,epochs=10,device=device)"
   ]
  },
  {
   "cell_type": "code",
   "execution_count": 52,
   "metadata": {},
   "outputs": [],
   "source": [
    "from torchvision import models"
   ]
  },
  {
   "cell_type": "code",
   "execution_count": 58,
   "metadata": {},
   "outputs": [],
   "source": [
    "def EfficienNet_model(pretrained=True,fine_tuned= True,num_classes=2):\n",
    "    if pretrained:\n",
    "        print('[INFO] LOADING PRETRAINED WEIGHTS')\n",
    "\n",
    "    else:\n",
    "        print('[INFO] NOT LOADING PRETRAINED WEIGHTS')\n",
    "    model = models.efficientnet_b2(pretrained = pretrained)\n",
    "\n",
    "    if fine_tuned:\n",
    "        print('[INFO] Fine-tuning all-layers..')\n",
    "        for params in model.parameters():\n",
    "            params.requires_grad = True\n",
    "    elif not fine_tuned:\n",
    "        print('[INFO]: Freezing hidden layers...')\n",
    "        for params in model.parameters():\n",
    "            params.requires_grad = False\n",
    "\n",
    "    model.classifier[1] = nn.Linear(in_features=1408,out_features= num_classes)\n",
    "    return model"
   ]
  },
  {
   "cell_type": "code",
   "execution_count": 59,
   "metadata": {},
   "outputs": [
    {
     "name": "stdout",
     "output_type": "stream",
     "text": [
      "[INFO] LOADING PRETRAINED WEIGHTS\n",
      "[INFO] Fine-tuning all-layers..\n"
     ]
    },
    {
     "name": "stderr",
     "output_type": "stream",
     "text": [
      "c:\\Users\\HP\\Desktop\\CatvsDogs\\venv\\Lib\\site-packages\\torchvision\\models\\_utils.py:208: UserWarning: The parameter 'pretrained' is deprecated since 0.13 and may be removed in the future, please use 'weights' instead.\n",
      "  warnings.warn(\n",
      "c:\\Users\\HP\\Desktop\\CatvsDogs\\venv\\Lib\\site-packages\\torchvision\\models\\_utils.py:223: UserWarning: Arguments other than a weight enum or `None` for 'weights' are deprecated since 0.13 and may be removed in the future. The current behavior is equivalent to passing `weights=EfficientNet_B2_Weights.IMAGENET1K_V1`. You can also use `weights=EfficientNet_B2_Weights.DEFAULT` to get the most up-to-date weights.\n",
      "  warnings.warn(msg)\n"
     ]
    }
   ],
   "source": [
    "model_1 =  EfficienNet_model(pretrained=True,fine_tuned= True).to(device)"
   ]
  },
  {
   "cell_type": "code",
   "execution_count": 62,
   "metadata": {},
   "outputs": [],
   "source": [
    "loss_fn = nn.CrossEntropyLoss()\n",
    "optim = torch.optim.Adam(params=model_1.parameters())"
   ]
  },
  {
   "cell_type": "code",
   "execution_count": 63,
   "metadata": {},
   "outputs": [
    {
     "name": "stderr",
     "output_type": "stream",
     "text": [
      "  0%|          | 0/10 [00:00<?, ?it/s]"
     ]
    },
    {
     "name": "stdout",
     "output_type": "stream",
     "text": [
      "Epoch 0 ---------------\n",
      "\n"
     ]
    },
    {
     "name": "stderr",
     "output_type": "stream",
     "text": [
      " 10%|█         | 1/10 [01:54<17:08, 114.23s/it]"
     ]
    },
    {
     "name": "stdout",
     "output_type": "stream",
     "text": [
      "Train Loss 0.32680308539867403 Train Accuracy 0.8621 \n",
      " Test Loss 0.19378229361146118 Test Accuracy 0.9267515923566879\n",
      "Epoch 1 ---------------\n",
      "\n"
     ]
    },
    {
     "name": "stderr",
     "output_type": "stream",
     "text": [
      " 20%|██        | 2/10 [03:47<15:10, 113.86s/it]"
     ]
    },
    {
     "name": "stdout",
     "output_type": "stream",
     "text": [
      "Train Loss 0.18385693863332273 Train Accuracy 0.9256 \n",
      " Test Loss 0.16623701950072484 Test Accuracy 0.9341162420382165\n",
      "Epoch 2 ---------------\n",
      "\n"
     ]
    },
    {
     "name": "stderr",
     "output_type": "stream",
     "text": [
      " 30%|███       | 3/10 [05:40<13:13, 113.33s/it]"
     ]
    },
    {
     "name": "stdout",
     "output_type": "stream",
     "text": [
      "Train Loss 0.13239905266463756 Train Accuracy 0.9483 \n",
      " Test Loss 0.17364826750983098 Test Accuracy 0.9315286624203821\n",
      "Epoch 3 ---------------\n",
      "\n"
     ]
    },
    {
     "name": "stderr",
     "output_type": "stream",
     "text": [
      " 40%|████      | 4/10 [07:33<11:18, 113.05s/it]"
     ]
    },
    {
     "name": "stdout",
     "output_type": "stream",
     "text": [
      "Train Loss 0.0993267028361559 Train Accuracy 0.96115 \n",
      " Test Loss 0.15817822976287005 Test Accuracy 0.9361066878980892\n",
      "Epoch 4 ---------------\n",
      "\n"
     ]
    },
    {
     "name": "stderr",
     "output_type": "stream",
     "text": [
      " 50%|█████     | 5/10 [09:26<09:25, 113.03s/it]"
     ]
    },
    {
     "name": "stdout",
     "output_type": "stream",
     "text": [
      "Train Loss 0.07329616961088031 Train Accuracy 0.97175 \n",
      " Test Loss 0.18230579572783154 Test Accuracy 0.9315286624203821\n",
      "Epoch 5 ---------------\n",
      "\n"
     ]
    },
    {
     "name": "stderr",
     "output_type": "stream",
     "text": [
      " 60%|██████    | 6/10 [11:19<07:32, 113.04s/it]"
     ]
    },
    {
     "name": "stdout",
     "output_type": "stream",
     "text": [
      "Train Loss 0.06711153844706715 Train Accuracy 0.9746 \n",
      " Test Loss 0.19904907718953338 Test Accuracy 0.9333200636942676\n",
      "Epoch 6 ---------------\n",
      "\n"
     ]
    },
    {
     "name": "stderr",
     "output_type": "stream",
     "text": [
      " 70%|███████   | 7/10 [13:12<05:39, 113.01s/it]"
     ]
    },
    {
     "name": "stdout",
     "output_type": "stream",
     "text": [
      "Train Loss 0.05725460278345272 Train Accuracy 0.9789 \n",
      " Test Loss 0.1818294721258104 Test Accuracy 0.932921974522293\n",
      "Epoch 7 ---------------\n",
      "\n"
     ]
    },
    {
     "name": "stderr",
     "output_type": "stream",
     "text": [
      " 80%|████████  | 8/10 [15:04<03:45, 112.96s/it]"
     ]
    },
    {
     "name": "stdout",
     "output_type": "stream",
     "text": [
      "Train Loss 0.04822345181377605 Train Accuracy 0.9825 \n",
      " Test Loss 0.21043907277505536 Test Accuracy 0.932921974522293\n",
      "Epoch 8 ---------------\n",
      "\n"
     ]
    },
    {
     "name": "stderr",
     "output_type": "stream",
     "text": [
      " 90%|█████████ | 9/10 [16:58<01:53, 113.05s/it]"
     ]
    },
    {
     "name": "stdout",
     "output_type": "stream",
     "text": [
      "Train Loss 0.049681268763868136 Train Accuracy 0.98345 \n",
      " Test Loss 0.16683566379568474 Test Accuracy 0.9432722929936306\n",
      "Epoch 9 ---------------\n",
      "\n"
     ]
    },
    {
     "name": "stderr",
     "output_type": "stream",
     "text": [
      "100%|██████████| 10/10 [18:51<00:00, 113.15s/it]"
     ]
    },
    {
     "name": "stdout",
     "output_type": "stream",
     "text": [
      "Train Loss 0.037598806625162254 Train Accuracy 0.98615 \n",
      " Test Loss 0.17352185599286418 Test Accuracy 0.9422770700636943\n"
     ]
    },
    {
     "name": "stderr",
     "output_type": "stream",
     "text": [
      "\n"
     ]
    }
   ],
   "source": [
    "results_Efficient_NET = train_model(model_1,train_loader=train_dataset_laoder,test_loader=validation_dataset_loader,loss_fn=loss_fn,optimizer=optim,epochs=10,device=device)"
   ]
  },
  {
   "cell_type": "code",
   "execution_count": 64,
   "metadata": {},
   "outputs": [],
   "source": [
    "def DenseNet_model(fine_tuned=True, num_classes=2):\n",
    "\n",
    "    model = models.densenet169(pretrained=True)\n",
    "\n",
    "   \n",
    "    if fine_tuned:\n",
    "        print('[INFO] Fine-tuning all layers...')\n",
    "        for params in model.parameters():\n",
    "            params.requires_grad = True\n",
    "    else:\n",
    "        print('[INFO] Freezing hidden layers...')\n",
    "        for params in model.parameters():\n",
    "            params.requires_grad = False\n",
    "\n",
    "    model.classifier = nn.Sequential(\n",
    "        nn.Linear(in_features=1664, out_features=1024), \n",
    "        nn.ReLU(),\n",
    "        nn.Dropout(0.5), \n",
    "        nn.Linear(1024, num_classes)  \n",
    "    )\n",
    "    \n",
    "    return model"
   ]
  },
  {
   "cell_type": "code",
   "execution_count": 65,
   "metadata": {},
   "outputs": [
    {
     "name": "stderr",
     "output_type": "stream",
     "text": [
      "c:\\Users\\HP\\Desktop\\CatvsDogs\\venv\\Lib\\site-packages\\torchvision\\models\\_utils.py:208: UserWarning: The parameter 'pretrained' is deprecated since 0.13 and may be removed in the future, please use 'weights' instead.\n",
      "  warnings.warn(\n",
      "c:\\Users\\HP\\Desktop\\CatvsDogs\\venv\\Lib\\site-packages\\torchvision\\models\\_utils.py:223: UserWarning: Arguments other than a weight enum or `None` for 'weights' are deprecated since 0.13 and may be removed in the future. The current behavior is equivalent to passing `weights=DenseNet169_Weights.IMAGENET1K_V1`. You can also use `weights=DenseNet169_Weights.DEFAULT` to get the most up-to-date weights.\n",
      "  warnings.warn(msg)\n"
     ]
    },
    {
     "name": "stdout",
     "output_type": "stream",
     "text": [
      "[INFO] Fine-tuning all layers...\n"
     ]
    }
   ],
   "source": [
    "model_2 = DenseNet_model().to(device)"
   ]
  },
  {
   "cell_type": "code",
   "execution_count": 66,
   "metadata": {},
   "outputs": [],
   "source": [
    "loss_fn = nn.CrossEntropyLoss()\n",
    "optim = torch.optim.Adam(params=model_2.parameters())"
   ]
  },
  {
   "cell_type": "code",
   "execution_count": 67,
   "metadata": {},
   "outputs": [
    {
     "name": "stderr",
     "output_type": "stream",
     "text": [
      "  0%|          | 0/10 [00:00<?, ?it/s]"
     ]
    },
    {
     "name": "stdout",
     "output_type": "stream",
     "text": [
      "Epoch 0 ---------------\n",
      "\n"
     ]
    },
    {
     "name": "stderr",
     "output_type": "stream",
     "text": [
      " 10%|█         | 1/10 [02:29<22:24, 149.38s/it]"
     ]
    },
    {
     "name": "stdout",
     "output_type": "stream",
     "text": [
      "Train Loss 0.5125613184213639 Train Accuracy 0.7174 \n",
      " Test Loss 0.6662476723361167 Test Accuracy 0.6003184713375797\n",
      "Epoch 1 ---------------\n",
      "\n"
     ]
    },
    {
     "name": "stderr",
     "output_type": "stream",
     "text": [
      " 20%|██        | 2/10 [05:01<20:06, 150.80s/it]"
     ]
    },
    {
     "name": "stdout",
     "output_type": "stream",
     "text": [
      "Train Loss 0.4773204411506653 Train Accuracy 0.7715 \n",
      " Test Loss 0.37707201500607146 Test Accuracy 0.8349920382165605\n",
      "Epoch 2 ---------------\n",
      "\n"
     ]
    },
    {
     "name": "stderr",
     "output_type": "stream",
     "text": [
      " 30%|███       | 3/10 [07:35<17:47, 152.45s/it]"
     ]
    },
    {
     "name": "stdout",
     "output_type": "stream",
     "text": [
      "Train Loss 0.3332926185965538 Train Accuracy 0.85905 \n",
      " Test Loss 0.3817545360630485 Test Accuracy 0.8268312101910829\n",
      "Epoch 3 ---------------\n",
      "\n"
     ]
    },
    {
     "name": "stderr",
     "output_type": "stream",
     "text": [
      " 40%|████      | 4/10 [10:00<14:55, 149.29s/it]"
     ]
    },
    {
     "name": "stdout",
     "output_type": "stream",
     "text": [
      "Train Loss 0.27882535063028335 Train Accuracy 0.8866 \n",
      " Test Loss 0.25685780557097904 Test Accuracy 0.8851512738853503\n",
      "Epoch 4 ---------------\n",
      "\n"
     ]
    },
    {
     "name": "stderr",
     "output_type": "stream",
     "text": [
      " 50%|█████     | 5/10 [12:26<12:22, 148.43s/it]"
     ]
    },
    {
     "name": "stdout",
     "output_type": "stream",
     "text": [
      "Train Loss 0.2052782788336277 Train Accuracy 0.9165 \n",
      " Test Loss 0.2357211131483886 Test Accuracy 0.8990843949044586\n",
      "Epoch 5 ---------------\n",
      "\n"
     ]
    },
    {
     "name": "stderr",
     "output_type": "stream",
     "text": [
      " 60%|██████    | 6/10 [14:53<09:51, 147.86s/it]"
     ]
    },
    {
     "name": "stdout",
     "output_type": "stream",
     "text": [
      "Train Loss 0.21528487737774848 Train Accuracy 0.91185 \n",
      " Test Loss 0.31994892039876077 Test Accuracy 0.8560907643312102\n",
      "Epoch 6 ---------------\n",
      "\n"
     ]
    },
    {
     "name": "stderr",
     "output_type": "stream",
     "text": [
      " 70%|███████   | 7/10 [17:19<07:21, 147.32s/it]"
     ]
    },
    {
     "name": "stdout",
     "output_type": "stream",
     "text": [
      "Train Loss 0.1998429233968258 Train Accuracy 0.92125 \n",
      " Test Loss 0.21005079852547615 Test Accuracy 0.9130175159235668\n",
      "Epoch 7 ---------------\n",
      "\n"
     ]
    },
    {
     "name": "stderr",
     "output_type": "stream",
     "text": [
      " 80%|████████  | 8/10 [19:46<04:54, 147.14s/it]"
     ]
    },
    {
     "name": "stdout",
     "output_type": "stream",
     "text": [
      "Train Loss 0.14765037220418453 Train Accuracy 0.9419 \n",
      " Test Loss 0.24445680785141174 Test Accuracy 0.8982882165605095\n",
      "Epoch 8 ---------------\n",
      "\n"
     ]
    },
    {
     "name": "stderr",
     "output_type": "stream",
     "text": [
      " 90%|█████████ | 9/10 [22:12<02:26, 146.85s/it]"
     ]
    },
    {
     "name": "stdout",
     "output_type": "stream",
     "text": [
      "Train Loss 0.1330711717247963 Train Accuracy 0.94855 \n",
      " Test Loss 0.2282945879373201 Test Accuracy 0.9066480891719745\n",
      "Epoch 9 ---------------\n",
      "\n"
     ]
    },
    {
     "name": "stderr",
     "output_type": "stream",
     "text": [
      "100%|██████████| 10/10 [24:38<00:00, 147.86s/it]"
     ]
    },
    {
     "name": "stdout",
     "output_type": "stream",
     "text": [
      "Train Loss 0.11631864425688981 Train Accuracy 0.9547 \n",
      " Test Loss 0.2315229497327926 Test Accuracy 0.9034633757961783\n"
     ]
    },
    {
     "name": "stderr",
     "output_type": "stream",
     "text": [
      "\n"
     ]
    }
   ],
   "source": [
    "results_DenseNet_NET = train_model(model_2,train_loader=train_dataset_laoder,test_loader=validation_dataset_loader,loss_fn=loss_fn,optimizer=optim,epochs=10,device=device)"
   ]
  },
  {
   "cell_type": "code",
   "execution_count": 71,
   "metadata": {},
   "outputs": [],
   "source": [
    "def show_models(results):\n",
    "    import matplotlib.pyplot as plt\n",
    "    epochs = range(len(results['test_loss']))\n",
    "    plt.subplot(1,2,1)\n",
    "    plt.plot(epochs,results['test_loss'],label='test_loss')\n",
    "    plt.plot(epochs,results['train_loss'],label='train_loss')\n",
    "    plt.legend()\n",
    "    plt.title('Loss')\n",
    "    plt.subplot(1,2,2)\n",
    "    plt.plot(epochs,results['train_acc'],label='train_acc')\n",
    "    plt.plot(epochs,results['test_acc'],label='test_acc')\n",
    "    plt.legend()\n",
    "    plt.title('Accuracy')\n",
    "    "
   ]
  },
  {
   "cell_type": "code",
   "execution_count": 72,
   "metadata": {},
   "outputs": [
    {
     "data": {
      "image/png": "[encoded data removed]",
      "text/plain": [
       "<Figure size 640x480 with 2 Axes>"
      ]
     },
     "metadata": {},
     "output_type": "display_data"
    }
   ],
   "source": [
    "show_models(results_DenseNet_NET)"
   ]
  },
  {
   "cell_type": "code",
   "execution_count": 73,
   "metadata": {},
   "outputs": [
    {
     "data": {
      "image/png": "[encoded data removed]",
      "text/plain": [
       "<Figure size 640x480 with 2 Axes>"
      ]
     },
     "metadata": {},
     "output_type": "display_data"
    }
   ],
   "source": [
    "show_models(results)"
   ]
  },
  {
   "cell_type": "code",
   "execution_count": 74,
   "metadata": {},
   "outputs": [
    {
     "data": {
      "image/png": "[encoded data removed]",
      "text/plain": [
       "<Figure size 640x480 with 2 Axes>"
      ]
     },
     "metadata": {},
     "output_type": "display_data"
    }
   ],
   "source": [
    "show_models(results_Efficient_NET)"
   ]
  },
  {
   "cell_type": "code",
   "execution_count": null,
   "metadata": {},
   "outputs": [],
   "source": []
  }
 ],
 "metadata": {
  "kernelspec": {
   "display_name": "venv",
   "language": "python",
   "name": "python3"
  },
  "language_info": {
   "codemirror_mode": {
    "name": "ipython",
    "version": 3
   },
   "file_extension": ".py",
   "mimetype": "text/x-python",
   "name": "python",
   "nbconvert_exporter": "python",
   "pygments_lexer": "ipython3",
   "version": "3.13.1"
  }
 },
 "nbformat": 4,
 "nbformat_minor": 2
}
